{
 "cells": [
  {
   "cell_type": "code",
   "execution_count": null,
   "metadata": {},
   "outputs": [],
   "source": [
    "import pandas as pd"
   ]
  },
  {
   "cell_type": "code",
   "execution_count": null,
   "metadata": {},
   "outputs": [],
   "source": [
    "df = pd.read_csv(\n",
    "    \"data/yellow_tripdata_2019-01.csv.gz\", encoding=\"ISO-8859-1\", on_bad_lines=\"warn\"\n",
    ")"
   ]
  },
  {
   "cell_type": "code",
   "execution_count": null,
   "metadata": {},
   "outputs": [],
   "source": [
    "df.columns"
   ]
  },
  {
   "cell_type": "code",
   "execution_count": null,
   "metadata": {},
   "outputs": [],
   "source": [
    "df.infer_objects().dtypes"
   ]
  },
  {
   "cell_type": "code",
   "execution_count": null,
   "metadata": {},
   "outputs": [],
   "source": [
    "df = df.convert_dtypes()"
   ]
  },
  {
   "cell_type": "code",
   "execution_count": null,
   "metadata": {},
   "outputs": [],
   "source": [
    "df_green = pd.read_parquet(\"data/green_tripdata_2019-01.parquet\")"
   ]
  },
  {
   "cell_type": "code",
   "execution_count": null,
   "metadata": {},
   "outputs": [],
   "source": [
    "for col in df_green.columns:\n",
    "    print(f\"\\\"{col}\\\": \\\"\\\"\")"
   ]
  },
  {
   "cell_type": "code",
   "execution_count": null,
   "metadata": {},
   "outputs": [],
   "source": [
    "df_green = df_green.astype({\n",
    "\t\"VendorID\": \"Int64\",\n",
    "\t\"lpep_pickup_datetime\": \"string\",\n",
    "\t\"lpep_dropoff_datetime\": \"string\",\n",
    "\t\"store_and_fwd_flag\": \"string\",\n",
    "\t\"RatecodeID\": \"Int64\",\n",
    "\t\"PULocationID\": \"Int64\",\n",
    "\t\"DOLocationID\": \"Int64\",\n",
    "\t\"passenger_count\": \"Int64\",\n",
    "\t\"trip_distance\": \"Float64\",\n",
    "\t\"fare_amount\": \"Float64\",\n",
    "\t\"extra\": \"Float64\",\n",
    "\t\"mta_tax\": \"Float64\",\n",
    "\t\"tip_amount\": \"Float64\",\n",
    "\t\"tolls_amount\": \"Float64\",\n",
    "\t\"ehail_fee\": \"Float64\",\n",
    "\t\"improvement_surcharge\": \"Float64\",\n",
    "\t\"total_amount\": \"Float64\",\n",
    "\t\"payment_type\": \"Float64\",\n",
    "\t\"trip_type\": \"Float64\",\n",
    "\t\"congestion_surcharge\": \"Float64\"\n",
    "})"
   ]
  },
  {
   "cell_type": "code",
   "execution_count": null,
   "metadata": {},
   "outputs": [],
   "source": [
    "df_yellow = pd.read_parquet(\"data/yellow_tripdata_2019-01.parquet\")"
   ]
  },
  {
   "cell_type": "code",
   "execution_count": null,
   "metadata": {},
   "outputs": [],
   "source": [
    "for col in df_yellow.columns:\n",
    "    print(f\"\\\"{col}\\\": \\\"\\\"\")"
   ]
  },
  {
   "cell_type": "code",
   "execution_count": null,
   "metadata": {},
   "outputs": [],
   "source": [
    "df_yellow = df_yellow.astype({\n",
    "    \"VendorID\": \"Int64\",\n",
    "    \"tpep_pickup_datetime\": \"string\",\n",
    "    \"tpep_dropoff_datetime\": \"string\",\n",
    "    \"passenger_count\": \"Int64\",\n",
    "    \"trip_distance\": \"Float64\",\n",
    "    \"RatecodeID\": \"Int64\",\n",
    "    \"store_and_fwd_flag\": \"string\",\n",
    "    \"PULocationID\": \"Int64\",\n",
    "    \"DOLocationID\": \"Int64\",\n",
    "    \"payment_type\": \"Int64\",\n",
    "    \"fare_amount\": \"Float64\",\n",
    "    \"extra\": \"Float64\",\n",
    "    \"mta_tax\": \"Float64\",\n",
    "    \"tip_amount\": \"Float64\",\n",
    "    \"tolls_amount\": \"Float64\",\n",
    "    \"improvement_surcharge\": \"Float64\",\n",
    "    \"total_amount\": \"Float64\",\n",
    "    \"congestion_surcharge\": \"Float64\"\n",
    "})"
   ]
  }
 ],
 "metadata": {
  "kernelspec": {
   "display_name": "dtc",
   "language": "python",
   "name": "python3"
  },
  "language_info": {
   "codemirror_mode": {
    "name": "ipython",
    "version": 3
   },
   "file_extension": ".py",
   "mimetype": "text/x-python",
   "name": "python",
   "nbconvert_exporter": "python",
   "pygments_lexer": "ipython3",
   "version": "3.11.0"
  },
  "orig_nbformat": 4,
  "vscode": {
   "interpreter": {
    "hash": "ca0eb2a8beedaddefd3f6b162591b44d6232c68c77b99f4953b365d9d2ad42d7"
   }
  }
 },
 "nbformat": 4,
 "nbformat_minor": 2
}
